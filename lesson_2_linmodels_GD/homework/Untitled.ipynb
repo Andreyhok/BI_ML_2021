{
 "cells": [
  {
   "cell_type": "code",
   "execution_count": 1,
   "id": "2085ae1a-2a7f-48ed-9ab2-2f57aba30fe5",
   "metadata": {},
   "outputs": [],
   "source": [
    "import numpy as np\n",
    "from sklearn.datasets import make_classification\n",
    "import matplotlib.pyplot as plt\n",
    "\n",
    "class LogisticRegression:\n",
    "    def __init__(self,x,y):      \n",
    "        self.intercept = np.ones((x.shape[0], 1))  \n",
    "        self.x = np.concatenate((self.intercept, x), axis=1)\n",
    "        self.weight = np.zeros(self.x.shape[1])\n",
    "        self.y = y\n",
    "        \n",
    "    #Sigmoid method\n",
    "    def sigmoid(self, x, weight):\n",
    "        z = np.dot(x, weight)\n",
    "        return 1 / (1 + np.exp(-z))\n",
    "    \n",
    "    #method to calculate the Loss\n",
    "    def loss(self, h, y):\n",
    "        return (-y * np.log(h) - (1 - y) * np.log(1 - h)).mean()\n",
    "    \n",
    "    #Method for calculating the gradients\n",
    "    def gradient_descent(self, X, h, y):\n",
    "        return np.dot(X.T, (h - y)) / y.shape[0]\n",
    "\n",
    "    \n",
    "    def fit(self, lr , iterations):\n",
    "        for i in range(iterations):\n",
    "            sigma = self.sigmoid(self.x, self.weight)\n",
    "            \n",
    "            loss = self.loss(sigma,self.y)\n",
    "\n",
    "            dW = self.gradient_descent(self.x , sigma, self.y)\n",
    "            \n",
    "            #Updating the weights\n",
    "            self.weight -= lr * dW\n",
    "\n",
    "        return print('fitted successfully to data')\n",
    "    \n",
    "    #Method to predict the class label.\n",
    "    def predict(self, x_new):\n",
    "        x_new = np.concatenate((self.intercept, x_new), axis=1)\n",
    "        y_pred = self.sigmoid(x_new, self.weight)\n",
    "       \n",
    "        return y_pred"
   ]
  },
  {
   "cell_type": "code",
   "execution_count": 2,
   "id": "76108ffd-a363-43c5-8cf2-92a474646442",
   "metadata": {},
   "outputs": [],
   "source": [
    "X, y = make_classification(n_features=1, n_informative=1,\n",
    "                           n_redundant=0, n_clusters_per_class=1)"
   ]
  },
  {
   "cell_type": "code",
   "execution_count": 3,
   "id": "c095a270-39a7-4654-a8de-9efa2bba80fd",
   "metadata": {},
   "outputs": [
    {
     "data": {
      "image/png": "[encoded data removed]",
      "text/plain": [
       "<Figure size 432x288 with 1 Axes>"
      ]
     },
     "metadata": {
      "needs_background": "light"
     },
     "output_type": "display_data"
    }
   ],
   "source": [
    "plt.scatter(X, y);"
   ]
  },
  {
   "cell_type": "code",
   "execution_count": 4,
   "id": "c0a382f0-8a02-4731-867a-44ef1e7df119",
   "metadata": {},
   "outputs": [],
   "source": [
    "custom_log_reg = LogisticRegression(X,y)"
   ]
  },
  {
   "cell_type": "code",
   "execution_count": 5,
   "id": "17a78926-6c8f-418c-b17c-a770ca2a51f7",
   "metadata": {},
   "outputs": [
    {
     "name": "stdout",
     "output_type": "stream",
     "text": [
      "fitted successfully to data\n"
     ]
    }
   ],
   "source": [
    "custom_log_reg.fit(0.01,1000)"
   ]
  },
  {
   "cell_type": "code",
   "execution_count": 6,
   "id": "58e5a263-eb59-4072-99b6-4dedfff267bf",
   "metadata": {},
   "outputs": [],
   "source": [
    "y_pred = custom_log_reg.predict(X)"
   ]
  },
  {
   "cell_type": "code",
   "execution_count": 7,
   "id": "dc65f17e-2469-486a-af60-7427aba092da",
   "metadata": {},
   "outputs": [
    {
     "name": "stdout",
     "output_type": "stream",
     "text": [
      "[0.1647058  0.81283095 0.89073333 0.42564344 0.03368513 0.71927684\n",
      " 0.92952419 0.25789085 0.03942326 0.39437672 0.49286164 0.58350039\n",
      " 0.23308344 0.74664096 0.37530969 0.91066764 0.08693889 0.85770129\n",
      " 0.28008745 0.08084735 0.82152054 0.26293707 0.58105383 0.04688434\n",
      " 0.14335282 0.2442986  0.97300106 0.93856975 0.98637746 0.15783798\n",
      " 0.09219787 0.24261269 0.18011977 0.65994966 0.95447514 0.20221387\n",
      " 0.16510497 0.15282542 0.71876256 0.89749782 0.47029418 0.3772076\n",
      " 0.84531136 0.72317127 0.18876917 0.98390291 0.4926534  0.19697952\n",
      " 0.25443852 0.68945822 0.05242742 0.5085478  0.19453179 0.56452378\n",
      " 0.11234232 0.2421167  0.20771026 0.10801549 0.07817769 0.0575323\n",
      " 0.90890982 0.84679668 0.96955945 0.98816775 0.19699779 0.80632005\n",
      " 0.22034773 0.28627153 0.57103333 0.5895811  0.91620333 0.73548798\n",
      " 0.39046577 0.87916446 0.13141859 0.44085372 0.60156872 0.36202094\n",
      " 0.1305276  0.59930333 0.99477651 0.1212026  0.16116904 0.15887246\n",
      " 0.86653136 0.7658276  0.37357243 0.65292784 0.33931706 0.60239058\n",
      " 0.89288389 0.22804368 0.39323026 0.78633747 0.96459215 0.87383072\n",
      " 0.16219349 0.99812322 0.47629407 0.24440826]\n"
     ]
    }
   ],
   "source": [
    "print(y_pred)"
   ]
  },
  {
   "cell_type": "code",
   "execution_count": 8,
   "id": "ced92ace-df89-454f-bb9b-f2ba1efdf624",
   "metadata": {},
   "outputs": [
    {
     "data": {
      "image/png": "[encoded data removed]",
      "text/plain": [
       "<Figure size 432x288 with 1 Axes>"
      ]
     },
     "metadata": {
      "needs_background": "light"
     },
     "output_type": "display_data"
    }
   ],
   "source": [
    "plt.scatter(X, y)\n",
    "plt.scatter(X, y_pred);"
   ]
  }
 ],
 "metadata": {
  "kernelspec": {
   "display_name": "Python 3 (ipykernel)",
   "language": "python",
   "name": "python3"
  },
  "language_info": {
   "codemirror_mode": {
    "name": "ipython",
    "version": 3
   },
   "file_extension": ".py",
   "mimetype": "text/x-python",
   "name": "python",
   "nbconvert_exporter": "python",
   "pygments_lexer": "ipython3",
   "version": "3.10.1"
  }
 },
 "nbformat": 4,
 "nbformat_minor": 5
}
