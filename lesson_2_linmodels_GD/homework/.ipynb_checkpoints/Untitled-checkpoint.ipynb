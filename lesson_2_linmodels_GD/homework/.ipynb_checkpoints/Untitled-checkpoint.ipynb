{
 "cells": [
  {
   "cell_type": "code",
   "execution_count": 10,
   "id": "2085ae1a-2a7f-48ed-9ab2-2f57aba30fe5",
   "metadata": {},
   "outputs": [],
   "source": [
    "import numpy as np\n",
    "from sklearn.datasets import make_classification\n",
    "import matplotlib.pyplot as plt\n",
    "\n",
    "class LogisticRegression:\n",
    "    def __init__(self,x,y):      \n",
    "        self.intercept = np.ones((x.shape[0], 1))  \n",
    "        self.x = np.concatenate((self.intercept, x), axis=1)\n",
    "        self.weight = np.zeros(self.x.shape[1])\n",
    "        self.y = y\n",
    "        \n",
    "    #Sigmoid method\n",
    "    def sigmoid(self, x, weight):\n",
    "        z = np.dot(x, weight)\n",
    "        return 1 / (1 + np.exp(-z))\n",
    "    \n",
    "    #method to calculate the Loss\n",
    "    def loss(self, h, y):\n",
    "        return (-y * np.log(h) - (1 - y) * np.log(1 - h)).mean()\n",
    "    \n",
    "    #Method for calculating the gradients\n",
    "    def gradient_descent(self, X, h, y):\n",
    "        return np.dot(X.T, (h - y)) / y.shape[0]\n",
    "\n",
    "    \n",
    "    def fit(self, lr , iterations):\n",
    "        for i in range(iterations):\n",
    "            sigma = self.sigmoid(self.x, self.weight)\n",
    "            \n",
    "            loss = self.loss(sigma,self.y)\n",
    "\n",
    "            dW = self.gradient_descent(self.x , sigma, self.y)\n",
    "            \n",
    "            #Updating the weights\n",
    "            self.weight -= lr * dW\n",
    "\n",
    "        return print('fitted successfully to data')\n",
    "    \n",
    "    #Method to predict the class label.\n",
    "    def predict(self, x_new):\n",
    "        x_new = np.concatenate((self.intercept, x_new), axis=1)\n",
    "        y_pred = self.sigmoid(x_new, self.weight)\n",
    "       \n",
    "        return y_pred"
   ]
  },
  {
   "cell_type": "code",
   "execution_count": 3,
   "id": "76108ffd-a363-43c5-8cf2-92a474646442",
   "metadata": {},
   "outputs": [],
   "source": [
    "X, y = make_classification(n_features=1, n_informative=1,\n",
    "                           n_redundant=0, n_clusters_per_class=1)"
   ]
  },
  {
   "cell_type": "code",
   "execution_count": 4,
   "id": "c095a270-39a7-4654-a8de-9efa2bba80fd",
   "metadata": {},
   "outputs": [
    {
     "data": {
      "image/png": "[encoded data removed]",
      "text/plain": [
       "<Figure size 432x288 with 1 Axes>"
      ]
     },
     "metadata": {
      "needs_background": "light"
     },
     "output_type": "display_data"
    }
   ],
   "source": [
    "plt.scatter(X, y);"
   ]
  },
  {
   "cell_type": "code",
   "execution_count": 11,
   "id": "c0a382f0-8a02-4731-867a-44ef1e7df119",
   "metadata": {},
   "outputs": [],
   "source": [
    "custom_log_reg = LogisticRegression(X,y)"
   ]
  },
  {
   "cell_type": "code",
   "execution_count": 12,
   "id": "17a78926-6c8f-418c-b17c-a770ca2a51f7",
   "metadata": {},
   "outputs": [
    {
     "name": "stdout",
     "output_type": "stream",
     "text": [
      "fitted successfully to data\n"
     ]
    }
   ],
   "source": [
    "custom_log_reg.fit(0.01,1000)"
   ]
  },
  {
   "cell_type": "code",
   "execution_count": 15,
   "id": "58e5a263-eb59-4072-99b6-4dedfff267bf",
   "metadata": {},
   "outputs": [],
   "source": [
    "y_pred = custom_log_reg.predict(X)"
   ]
  },
  {
   "cell_type": "code",
   "execution_count": 17,
   "id": "dc65f17e-2469-486a-af60-7427aba092da",
   "metadata": {},
   "outputs": [
    {
     "name": "stdout",
     "output_type": "stream",
     "text": [
      "[0.79338949 0.95109457 0.36946968 0.52467216 0.68797336 0.1411048\n",
      " 0.2171004  0.77398732 0.06562972 0.21591596 0.15387773 0.28801643\n",
      " 0.98100273 0.0082232  0.54728768 0.92918956 0.09465235 0.79286249\n",
      " 0.03456015 0.57394517 0.8194978  0.25076045 0.97941183 0.68020479\n",
      " 0.85182348 0.85126275 0.04224668 0.05681183 0.89704677 0.09264281\n",
      " 0.22912216 0.96032477 0.09170294 0.77433696 0.06506729 0.95016194\n",
      " 0.95723431 0.52203039 0.89476942 0.21705187 0.51721516 0.74213397\n",
      " 0.77371432 0.99122783 0.02833919 0.86824459 0.49102986 0.50086471\n",
      " 0.59836824 0.81146485 0.75240715 0.10506734 0.01456964 0.32965346\n",
      " 0.06614056 0.93095175 0.88484472 0.0200518  0.51453644 0.91114308\n",
      " 0.62127075 0.8337451  0.02463723 0.15623815 0.02938423 0.71361399\n",
      " 0.50249758 0.90315036 0.04186313 0.91383474 0.66231603 0.03423503\n",
      " 0.35048858 0.03300585 0.03090007 0.9644163  0.13751005 0.99788331\n",
      " 0.04683064 0.99775457 0.75168696 0.16053234 0.09808237 0.08230596\n",
      " 0.44683848 0.13584825 0.14477366 0.20375993 0.84533875 0.55062008\n",
      " 0.44052174 0.94185963 0.45105955 0.20519076 0.83981888 0.14307413\n",
      " 0.97046219 0.01355023 0.03406366 0.89305702]\n"
     ]
    }
   ],
   "source": [
    "print(y_pred)"
   ]
  },
  {
   "cell_type": "code",
   "execution_count": 16,
   "id": "ced92ace-df89-454f-bb9b-f2ba1efdf624",
   "metadata": {},
   "outputs": [
    {
     "data": {
      "image/png": "[encoded data removed]",
      "text/plain": [
       "<Figure size 432x288 with 1 Axes>"
      ]
     },
     "metadata": {
      "needs_background": "light"
     },
     "output_type": "display_data"
    }
   ],
   "source": [
    "plt.scatter(X, y)\n",
    "plt.scatter(X, y_pred);"
   ]
  }
 ],
 "metadata": {
  "kernelspec": {
   "display_name": "Python 3 (ipykernel)",
   "language": "python",
   "name": "python3"
  },
  "language_info": {
   "codemirror_mode": {
    "name": "ipython",
    "version": 3
   },
   "file_extension": ".py",
   "mimetype": "text/x-python",
   "name": "python",
   "nbconvert_exporter": "python",
   "pygments_lexer": "ipython3",
   "version": "3.10.1"
  }
 },
 "nbformat": 4,
 "nbformat_minor": 5
}
