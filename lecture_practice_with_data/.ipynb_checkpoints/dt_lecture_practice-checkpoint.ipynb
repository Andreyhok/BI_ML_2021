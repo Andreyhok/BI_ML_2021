{
 "cells": [
  {
   "cell_type": "code",
   "execution_count": 198,
   "id": "b084d51a-694e-4cc8-99cb-f2e8cc62269d",
   "metadata": {},
   "outputs": [],
   "source": [
    "import pandas as pd\n",
    "from sklearn.tree import DecisionTreeClassifier\n",
    "from sklearn.model_selection import train_test_split, GridSearchCV\n",
    "from sklearn.metrics import accuracy_score\n",
    "import matplotlib.pyplot as plt\n",
    "import numpy as np\n",
    "import seaborn as sns\n",
    "from sklearn.preprocessing import StandardScaler\n",
    "import random\n",
    "from sklearn.metrics import classification_report, f1_score\n",
    "import matplotlib.pyplot as plt\n",
    "from sklearn.neighbors import KNeighborsClassifier\n",
    "from sklearn import svm"
   ]
  },
  {
   "cell_type": "code",
   "execution_count": 2,
   "id": "590c15e1-940a-4532-864f-2eae0688c29a",
   "metadata": {},
   "outputs": [],
   "source": [
    "SEED = 111\n",
    "random.seed(SEED)\n",
    "np.random.seed(SEED)"
   ]
  },
  {
   "cell_type": "markdown",
   "id": "ab8e95f5-5349-423d-8c28-e80f50a61ce2",
   "metadata": {},
   "source": [
    "Будем учиться классифицировать жанры музыки. В отличие от проекта, который вас ждет, здесь мы будем работать не с сырыми данными (аудиодорожками), а уже в осмысленными признаками (правда, не все из них имеют понятные названия). Сами данные можно найти [здесь](https://www.kaggle.com/purumalgi/music-genre-classification). Будем использовать файл `train.csv`. Нашей задачей будет предсказание переменной `Class` (жанр песни) при помощи деревьев решений. Можно попробовать также другие методы классификации, которые мы прошли, и сравнить результаты. При обучении всех моделей не забывайте про разделение на тренировку и тест (или кросс валидацию [ссылка](https://www.youtube.com/watch?v=fSytzGwwBVw))."
   ]
  },
  {
   "cell_type": "markdown",
   "id": "04e0c9f5-2043-4ed7-92e4-e53677b60df8",
   "metadata": {},
   "source": [
    "### Задание 1. EDA (10 баллов)\n",
    "\n",
    "Как обычно, начнем с того, что посмотрим на наши данные: типы переменных, пропущенные значения, баланс классов и все такое. Ваш ход:"
   ]
  },
  {
   "cell_type": "code",
   "execution_count": 3,
   "id": "1ab19c5c-4a2b-4388-8063-ec56e415408a",
   "metadata": {},
   "outputs": [
    {
     "data": {
      "text/html": [
       "<div>\n",
       "<style scoped>\n",
       "    .dataframe tbody tr th:only-of-type {\n",
       "        vertical-align: middle;\n",
       "    }\n",
       "\n",
       "    .dataframe tbody tr th {\n",
       "        vertical-align: top;\n",
       "    }\n",
       "\n",
       "    .dataframe thead th {\n",
       "        text-align: right;\n",
       "    }\n",
       "</style>\n",
       "<table border=\"1\" class=\"dataframe\">\n",
       "  <thead>\n",
       "    <tr style=\"text-align: right;\">\n",
       "      <th></th>\n",
       "      <th>Artist Name</th>\n",
       "      <th>Track Name</th>\n",
       "      <th>Popularity</th>\n",
       "      <th>danceability</th>\n",
       "      <th>energy</th>\n",
       "      <th>key</th>\n",
       "      <th>loudness</th>\n",
       "      <th>mode</th>\n",
       "      <th>speechiness</th>\n",
       "      <th>acousticness</th>\n",
       "      <th>instrumentalness</th>\n",
       "      <th>liveness</th>\n",
       "      <th>valence</th>\n",
       "      <th>tempo</th>\n",
       "      <th>duration_in min/ms</th>\n",
       "      <th>time_signature</th>\n",
       "      <th>Class</th>\n",
       "    </tr>\n",
       "  </thead>\n",
       "  <tbody>\n",
       "    <tr>\n",
       "      <th>0</th>\n",
       "      <td>Bruno Mars</td>\n",
       "      <td>That's What I Like (feat. Gucci Mane)</td>\n",
       "      <td>60.0</td>\n",
       "      <td>0.854</td>\n",
       "      <td>0.564</td>\n",
       "      <td>1.0</td>\n",
       "      <td>-4.964</td>\n",
       "      <td>1</td>\n",
       "      <td>0.0485</td>\n",
       "      <td>0.017100</td>\n",
       "      <td>NaN</td>\n",
       "      <td>0.0849</td>\n",
       "      <td>0.8990</td>\n",
       "      <td>134.071</td>\n",
       "      <td>234596.0</td>\n",
       "      <td>4</td>\n",
       "      <td>5</td>\n",
       "    </tr>\n",
       "    <tr>\n",
       "      <th>1</th>\n",
       "      <td>Boston</td>\n",
       "      <td>Hitch a Ride</td>\n",
       "      <td>54.0</td>\n",
       "      <td>0.382</td>\n",
       "      <td>0.814</td>\n",
       "      <td>3.0</td>\n",
       "      <td>-7.230</td>\n",
       "      <td>1</td>\n",
       "      <td>0.0406</td>\n",
       "      <td>0.001100</td>\n",
       "      <td>0.004010</td>\n",
       "      <td>0.1010</td>\n",
       "      <td>0.5690</td>\n",
       "      <td>116.454</td>\n",
       "      <td>251733.0</td>\n",
       "      <td>4</td>\n",
       "      <td>10</td>\n",
       "    </tr>\n",
       "    <tr>\n",
       "      <th>2</th>\n",
       "      <td>The Raincoats</td>\n",
       "      <td>No Side to Fall In</td>\n",
       "      <td>35.0</td>\n",
       "      <td>0.434</td>\n",
       "      <td>0.614</td>\n",
       "      <td>6.0</td>\n",
       "      <td>-8.334</td>\n",
       "      <td>1</td>\n",
       "      <td>0.0525</td>\n",
       "      <td>0.486000</td>\n",
       "      <td>0.000196</td>\n",
       "      <td>0.3940</td>\n",
       "      <td>0.7870</td>\n",
       "      <td>147.681</td>\n",
       "      <td>109667.0</td>\n",
       "      <td>4</td>\n",
       "      <td>6</td>\n",
       "    </tr>\n",
       "    <tr>\n",
       "      <th>3</th>\n",
       "      <td>Deno</td>\n",
       "      <td>Lingo (feat. J.I &amp; Chunkz)</td>\n",
       "      <td>66.0</td>\n",
       "      <td>0.853</td>\n",
       "      <td>0.597</td>\n",
       "      <td>10.0</td>\n",
       "      <td>-6.528</td>\n",
       "      <td>0</td>\n",
       "      <td>0.0555</td>\n",
       "      <td>0.021200</td>\n",
       "      <td>NaN</td>\n",
       "      <td>0.1220</td>\n",
       "      <td>0.5690</td>\n",
       "      <td>107.033</td>\n",
       "      <td>173968.0</td>\n",
       "      <td>4</td>\n",
       "      <td>5</td>\n",
       "    </tr>\n",
       "    <tr>\n",
       "      <th>4</th>\n",
       "      <td>Red Hot Chili Peppers</td>\n",
       "      <td>Nobody Weird Like Me - Remastered</td>\n",
       "      <td>53.0</td>\n",
       "      <td>0.167</td>\n",
       "      <td>0.975</td>\n",
       "      <td>2.0</td>\n",
       "      <td>-4.279</td>\n",
       "      <td>1</td>\n",
       "      <td>0.2160</td>\n",
       "      <td>0.000169</td>\n",
       "      <td>0.016100</td>\n",
       "      <td>0.1720</td>\n",
       "      <td>0.0918</td>\n",
       "      <td>199.060</td>\n",
       "      <td>229960.0</td>\n",
       "      <td>4</td>\n",
       "      <td>10</td>\n",
       "    </tr>\n",
       "  </tbody>\n",
       "</table>\n",
       "</div>"
      ],
      "text/plain": [
       "             Artist Name                             Track Name  Popularity  \\\n",
       "0             Bruno Mars  That's What I Like (feat. Gucci Mane)        60.0   \n",
       "1                 Boston                           Hitch a Ride        54.0   \n",
       "2          The Raincoats                     No Side to Fall In        35.0   \n",
       "3                   Deno             Lingo (feat. J.I & Chunkz)        66.0   \n",
       "4  Red Hot Chili Peppers      Nobody Weird Like Me - Remastered        53.0   \n",
       "\n",
       "   danceability  energy   key  loudness  mode  speechiness  acousticness  \\\n",
       "0         0.854   0.564   1.0    -4.964     1       0.0485      0.017100   \n",
       "1         0.382   0.814   3.0    -7.230     1       0.0406      0.001100   \n",
       "2         0.434   0.614   6.0    -8.334     1       0.0525      0.486000   \n",
       "3         0.853   0.597  10.0    -6.528     0       0.0555      0.021200   \n",
       "4         0.167   0.975   2.0    -4.279     1       0.2160      0.000169   \n",
       "\n",
       "   instrumentalness  liveness  valence    tempo  duration_in min/ms  \\\n",
       "0               NaN    0.0849   0.8990  134.071            234596.0   \n",
       "1          0.004010    0.1010   0.5690  116.454            251733.0   \n",
       "2          0.000196    0.3940   0.7870  147.681            109667.0   \n",
       "3               NaN    0.1220   0.5690  107.033            173968.0   \n",
       "4          0.016100    0.1720   0.0918  199.060            229960.0   \n",
       "\n",
       "   time_signature  Class  \n",
       "0               4      5  \n",
       "1               4     10  \n",
       "2               4      6  \n",
       "3               4      5  \n",
       "4               4     10  "
      ]
     },
     "execution_count": 3,
     "metadata": {},
     "output_type": "execute_result"
    }
   ],
   "source": [
    "data = pd.read_csv(\"train.csv\")\n",
    "data.head()"
   ]
  },
  {
   "cell_type": "code",
   "execution_count": 31,
   "id": "7af08070-328d-4410-93dc-9ec0d36e6b9f",
   "metadata": {},
   "outputs": [
    {
     "data": {
      "text/plain": [
       "(17996, 17)"
      ]
     },
     "execution_count": 31,
     "metadata": {},
     "output_type": "execute_result"
    }
   ],
   "source": [
    "data.shape"
   ]
  },
  {
   "cell_type": "code",
   "execution_count": 33,
   "id": "d19b38c0-2bbd-476d-8ec8-c244fb8b2a78",
   "metadata": {},
   "outputs": [
    {
     "data": {
      "text/plain": [
       "Artist Name            object\n",
       "Track Name             object\n",
       "Popularity            float64\n",
       "danceability          float64\n",
       "energy                float64\n",
       "key                   float64\n",
       "loudness              float64\n",
       "mode                    int64\n",
       "speechiness           float64\n",
       "acousticness          float64\n",
       "instrumentalness      float64\n",
       "liveness              float64\n",
       "valence               float64\n",
       "tempo                 float64\n",
       "duration_in min/ms    float64\n",
       "time_signature          int64\n",
       "Class                   int64\n",
       "dtype: object"
      ]
     },
     "execution_count": 33,
     "metadata": {},
     "output_type": "execute_result"
    }
   ],
   "source": [
    "data.dtypes #Смотрим на типы переменных"
   ]
  },
  {
   "cell_type": "code",
   "execution_count": 213,
   "id": "7c109ae8-189d-4457-a7b4-951212b26352",
   "metadata": {},
   "outputs": [
    {
     "data": {
      "text/html": [
       "<div>\n",
       "<style scoped>\n",
       "    .dataframe tbody tr th:only-of-type {\n",
       "        vertical-align: middle;\n",
       "    }\n",
       "\n",
       "    .dataframe tbody tr th {\n",
       "        vertical-align: top;\n",
       "    }\n",
       "\n",
       "    .dataframe thead th {\n",
       "        text-align: right;\n",
       "    }\n",
       "</style>\n",
       "<table border=\"1\" class=\"dataframe\">\n",
       "  <thead>\n",
       "    <tr style=\"text-align: right;\">\n",
       "      <th></th>\n",
       "      <th>Popularity</th>\n",
       "      <th>danceability</th>\n",
       "      <th>energy</th>\n",
       "      <th>key</th>\n",
       "      <th>loudness</th>\n",
       "      <th>mode</th>\n",
       "      <th>speechiness</th>\n",
       "      <th>acousticness</th>\n",
       "      <th>instrumentalness</th>\n",
       "      <th>liveness</th>\n",
       "      <th>valence</th>\n",
       "      <th>tempo</th>\n",
       "      <th>duration_in min/ms</th>\n",
       "      <th>time_signature</th>\n",
       "      <th>Class</th>\n",
       "    </tr>\n",
       "  </thead>\n",
       "  <tbody>\n",
       "    <tr>\n",
       "      <th>count</th>\n",
       "      <td>17568.000000</td>\n",
       "      <td>17996.000000</td>\n",
       "      <td>17996.000000</td>\n",
       "      <td>15982.000000</td>\n",
       "      <td>17996.000000</td>\n",
       "      <td>17996.000000</td>\n",
       "      <td>17996.000000</td>\n",
       "      <td>17996.000000</td>\n",
       "      <td>13619.000000</td>\n",
       "      <td>17996.000000</td>\n",
       "      <td>17996.000000</td>\n",
       "      <td>17996.000000</td>\n",
       "      <td>1.799600e+04</td>\n",
       "      <td>17996.000000</td>\n",
       "      <td>17996.000000</td>\n",
       "    </tr>\n",
       "    <tr>\n",
       "      <th>mean</th>\n",
       "      <td>44.512124</td>\n",
       "      <td>0.543433</td>\n",
       "      <td>0.662777</td>\n",
       "      <td>5.952447</td>\n",
       "      <td>-7.910660</td>\n",
       "      <td>0.636753</td>\n",
       "      <td>0.079707</td>\n",
       "      <td>0.247082</td>\n",
       "      <td>0.177562</td>\n",
       "      <td>0.196170</td>\n",
       "      <td>0.486208</td>\n",
       "      <td>122.623294</td>\n",
       "      <td>2.007445e+05</td>\n",
       "      <td>3.924039</td>\n",
       "      <td>6.695821</td>\n",
       "    </tr>\n",
       "    <tr>\n",
       "      <th>std</th>\n",
       "      <td>17.426928</td>\n",
       "      <td>0.166268</td>\n",
       "      <td>0.235373</td>\n",
       "      <td>3.196854</td>\n",
       "      <td>4.049151</td>\n",
       "      <td>0.480949</td>\n",
       "      <td>0.083576</td>\n",
       "      <td>0.310632</td>\n",
       "      <td>0.304048</td>\n",
       "      <td>0.159212</td>\n",
       "      <td>0.240195</td>\n",
       "      <td>29.571527</td>\n",
       "      <td>1.119891e+05</td>\n",
       "      <td>0.361618</td>\n",
       "      <td>3.206073</td>\n",
       "    </tr>\n",
       "    <tr>\n",
       "      <th>min</th>\n",
       "      <td>1.000000</td>\n",
       "      <td>0.059600</td>\n",
       "      <td>0.000020</td>\n",
       "      <td>1.000000</td>\n",
       "      <td>-39.952000</td>\n",
       "      <td>0.000000</td>\n",
       "      <td>0.022500</td>\n",
       "      <td>0.000000</td>\n",
       "      <td>0.000001</td>\n",
       "      <td>0.011900</td>\n",
       "      <td>0.018300</td>\n",
       "      <td>30.557000</td>\n",
       "      <td>5.016500e-01</td>\n",
       "      <td>1.000000</td>\n",
       "      <td>0.000000</td>\n",
       "    </tr>\n",
       "    <tr>\n",
       "      <th>25%</th>\n",
       "      <td>33.000000</td>\n",
       "      <td>0.432000</td>\n",
       "      <td>0.509000</td>\n",
       "      <td>3.000000</td>\n",
       "      <td>-9.538000</td>\n",
       "      <td>0.000000</td>\n",
       "      <td>0.034800</td>\n",
       "      <td>0.004300</td>\n",
       "      <td>0.000089</td>\n",
       "      <td>0.097500</td>\n",
       "      <td>0.297000</td>\n",
       "      <td>99.620750</td>\n",
       "      <td>1.663370e+05</td>\n",
       "      <td>4.000000</td>\n",
       "      <td>5.000000</td>\n",
       "    </tr>\n",
       "    <tr>\n",
       "      <th>50%</th>\n",
       "      <td>44.000000</td>\n",
       "      <td>0.545000</td>\n",
       "      <td>0.700000</td>\n",
       "      <td>6.000000</td>\n",
       "      <td>-7.016000</td>\n",
       "      <td>1.000000</td>\n",
       "      <td>0.047400</td>\n",
       "      <td>0.081400</td>\n",
       "      <td>0.003910</td>\n",
       "      <td>0.129000</td>\n",
       "      <td>0.481000</td>\n",
       "      <td>120.065500</td>\n",
       "      <td>2.091600e+05</td>\n",
       "      <td>4.000000</td>\n",
       "      <td>8.000000</td>\n",
       "    </tr>\n",
       "    <tr>\n",
       "      <th>75%</th>\n",
       "      <td>56.000000</td>\n",
       "      <td>0.659000</td>\n",
       "      <td>0.860000</td>\n",
       "      <td>9.000000</td>\n",
       "      <td>-5.189000</td>\n",
       "      <td>1.000000</td>\n",
       "      <td>0.083000</td>\n",
       "      <td>0.434000</td>\n",
       "      <td>0.200000</td>\n",
       "      <td>0.258000</td>\n",
       "      <td>0.672000</td>\n",
       "      <td>141.969250</td>\n",
       "      <td>2.524900e+05</td>\n",
       "      <td>4.000000</td>\n",
       "      <td>10.000000</td>\n",
       "    </tr>\n",
       "    <tr>\n",
       "      <th>max</th>\n",
       "      <td>100.000000</td>\n",
       "      <td>0.989000</td>\n",
       "      <td>1.000000</td>\n",
       "      <td>11.000000</td>\n",
       "      <td>1.355000</td>\n",
       "      <td>1.000000</td>\n",
       "      <td>0.955000</td>\n",
       "      <td>0.996000</td>\n",
       "      <td>0.996000</td>\n",
       "      <td>1.000000</td>\n",
       "      <td>0.986000</td>\n",
       "      <td>217.416000</td>\n",
       "      <td>1.477187e+06</td>\n",
       "      <td>5.000000</td>\n",
       "      <td>10.000000</td>\n",
       "    </tr>\n",
       "  </tbody>\n",
       "</table>\n",
       "</div>"
      ],
      "text/plain": [
       "         Popularity  danceability        energy           key      loudness  \\\n",
       "count  17568.000000  17996.000000  17996.000000  15982.000000  17996.000000   \n",
       "mean      44.512124      0.543433      0.662777      5.952447     -7.910660   \n",
       "std       17.426928      0.166268      0.235373      3.196854      4.049151   \n",
       "min        1.000000      0.059600      0.000020      1.000000    -39.952000   \n",
       "25%       33.000000      0.432000      0.509000      3.000000     -9.538000   \n",
       "50%       44.000000      0.545000      0.700000      6.000000     -7.016000   \n",
       "75%       56.000000      0.659000      0.860000      9.000000     -5.189000   \n",
       "max      100.000000      0.989000      1.000000     11.000000      1.355000   \n",
       "\n",
       "               mode   speechiness  acousticness  instrumentalness  \\\n",
       "count  17996.000000  17996.000000  17996.000000      13619.000000   \n",
       "mean       0.636753      0.079707      0.247082          0.177562   \n",
       "std        0.480949      0.083576      0.310632          0.304048   \n",
       "min        0.000000      0.022500      0.000000          0.000001   \n",
       "25%        0.000000      0.034800      0.004300          0.000089   \n",
       "50%        1.000000      0.047400      0.081400          0.003910   \n",
       "75%        1.000000      0.083000      0.434000          0.200000   \n",
       "max        1.000000      0.955000      0.996000          0.996000   \n",
       "\n",
       "           liveness       valence         tempo  duration_in min/ms  \\\n",
       "count  17996.000000  17996.000000  17996.000000        1.799600e+04   \n",
       "mean       0.196170      0.486208    122.623294        2.007445e+05   \n",
       "std        0.159212      0.240195     29.571527        1.119891e+05   \n",
       "min        0.011900      0.018300     30.557000        5.016500e-01   \n",
       "25%        0.097500      0.297000     99.620750        1.663370e+05   \n",
       "50%        0.129000      0.481000    120.065500        2.091600e+05   \n",
       "75%        0.258000      0.672000    141.969250        2.524900e+05   \n",
       "max        1.000000      0.986000    217.416000        1.477187e+06   \n",
       "\n",
       "       time_signature         Class  \n",
       "count    17996.000000  17996.000000  \n",
       "mean         3.924039      6.695821  \n",
       "std          0.361618      3.206073  \n",
       "min          1.000000      0.000000  \n",
       "25%          4.000000      5.000000  \n",
       "50%          4.000000      8.000000  \n",
       "75%          4.000000     10.000000  \n",
       "max          5.000000     10.000000  "
      ]
     },
     "execution_count": 213,
     "metadata": {},
     "output_type": "execute_result"
    }
   ],
   "source": [
    "data.describe() # Смотрим на распределения переменных"
   ]
  },
  {
   "cell_type": "code",
   "execution_count": 32,
   "id": "8ec8df61-682d-40e5-9af2-35097922d5fa",
   "metadata": {},
   "outputs": [],
   "source": [
    "nas = data.isna().sum(axis=0)  # посчитаем количество пропущенных значений в каждом столбце"
   ]
  },
  {
   "cell_type": "code",
   "execution_count": 28,
   "id": "20e5e570-48f8-4923-9d7a-c4d4ea26a127",
   "metadata": {},
   "outputs": [
    {
     "data": {
      "text/plain": [
       "Artist Name              0\n",
       "Track Name               0\n",
       "Popularity             428\n",
       "danceability             0\n",
       "energy                   0\n",
       "key                   2014\n",
       "loudness                 0\n",
       "mode                     0\n",
       "speechiness              0\n",
       "acousticness             0\n",
       "instrumentalness      4377\n",
       "liveness                 0\n",
       "valence                  0\n",
       "tempo                    0\n",
       "duration_in min/ms       0\n",
       "time_signature           0\n",
       "Class                    0\n",
       "dtype: int64"
      ]
     },
     "execution_count": 28,
     "metadata": {},
     "output_type": "execute_result"
    }
   ],
   "source": [
    "nas # Как видно, столбцы Popularity, key, instrumentalness содержат большое количество пропущенных значений"
   ]
  },
  {
   "cell_type": "code",
   "execution_count": 29,
   "id": "62a245f5-80a9-4ba8-801a-809c62aafb09",
   "metadata": {},
   "outputs": [
    {
     "data": {
      "text/plain": [
       "10    4949\n",
       "6     2587\n",
       "9     2524\n",
       "8     1854\n",
       "5     1447\n",
       "1     1373\n",
       "2     1272\n",
       "0      625\n",
       "7      576\n",
       "3      402\n",
       "4      387\n",
       "Name: Class, dtype: int64"
      ]
     },
     "execution_count": 29,
     "metadata": {},
     "output_type": "execute_result"
    }
   ],
   "source": [
    "data['Class'].value_counts() # Посчитаем количество объектов в каждом классе"
   ]
  },
  {
   "cell_type": "code",
   "execution_count": 214,
   "id": "be6aed0b-3323-4669-a342-660b9bda8953",
   "metadata": {},
   "outputs": [
    {
     "data": {
      "text/html": [
       "<div>\n",
       "<style scoped>\n",
       "    .dataframe tbody tr th:only-of-type {\n",
       "        vertical-align: middle;\n",
       "    }\n",
       "\n",
       "    .dataframe tbody tr th {\n",
       "        vertical-align: top;\n",
       "    }\n",
       "\n",
       "    .dataframe thead th {\n",
       "        text-align: right;\n",
       "    }\n",
       "</style>\n",
       "<table border=\"1\" class=\"dataframe\">\n",
       "  <thead>\n",
       "    <tr style=\"text-align: right;\">\n",
       "      <th></th>\n",
       "      <th>Popularity</th>\n",
       "      <th>danceability</th>\n",
       "      <th>energy</th>\n",
       "      <th>key</th>\n",
       "      <th>loudness</th>\n",
       "      <th>mode</th>\n",
       "      <th>speechiness</th>\n",
       "      <th>acousticness</th>\n",
       "      <th>instrumentalness</th>\n",
       "      <th>liveness</th>\n",
       "      <th>valence</th>\n",
       "      <th>tempo</th>\n",
       "      <th>duration_in min/ms</th>\n",
       "      <th>time_signature</th>\n",
       "      <th>Class</th>\n",
       "    </tr>\n",
       "  </thead>\n",
       "  <tbody>\n",
       "    <tr>\n",
       "      <th>Popularity</th>\n",
       "      <td>1.000000</td>\n",
       "      <td>0.167213</td>\n",
       "      <td>0.051538</td>\n",
       "      <td>0.005901</td>\n",
       "      <td>0.124915</td>\n",
       "      <td>0.016584</td>\n",
       "      <td>0.031664</td>\n",
       "      <td>-0.125410</td>\n",
       "      <td>-0.167661</td>\n",
       "      <td>-0.072298</td>\n",
       "      <td>0.054824</td>\n",
       "      <td>-0.006050</td>\n",
       "      <td>-0.031118</td>\n",
       "      <td>0.067062</td>\n",
       "      <td>0.161072</td>\n",
       "    </tr>\n",
       "    <tr>\n",
       "      <th>danceability</th>\n",
       "      <td>0.167213</td>\n",
       "      <td>1.000000</td>\n",
       "      <td>-0.093838</td>\n",
       "      <td>0.006702</td>\n",
       "      <td>0.059723</td>\n",
       "      <td>-0.067135</td>\n",
       "      <td>0.199042</td>\n",
       "      <td>0.009055</td>\n",
       "      <td>-0.200752</td>\n",
       "      <td>-0.109485</td>\n",
       "      <td>0.444548</td>\n",
       "      <td>-0.183527</td>\n",
       "      <td>-0.121624</td>\n",
       "      <td>0.137455</td>\n",
       "      <td>-0.097681</td>\n",
       "    </tr>\n",
       "    <tr>\n",
       "      <th>energy</th>\n",
       "      <td>0.051538</td>\n",
       "      <td>-0.093838</td>\n",
       "      <td>1.000000</td>\n",
       "      <td>0.015934</td>\n",
       "      <td>0.767869</td>\n",
       "      <td>-0.035880</td>\n",
       "      <td>0.125427</td>\n",
       "      <td>-0.745963</td>\n",
       "      <td>-0.180276</td>\n",
       "      <td>0.195634</td>\n",
       "      <td>0.222998</td>\n",
       "      <td>0.210224</td>\n",
       "      <td>0.245768</td>\n",
       "      <td>0.145281</td>\n",
       "      <td>0.217328</td>\n",
       "    </tr>\n",
       "    <tr>\n",
       "      <th>key</th>\n",
       "      <td>0.005901</td>\n",
       "      <td>0.006702</td>\n",
       "      <td>0.015934</td>\n",
       "      <td>1.000000</td>\n",
       "      <td>0.002660</td>\n",
       "      <td>-0.112452</td>\n",
       "      <td>0.001822</td>\n",
       "      <td>-0.009112</td>\n",
       "      <td>0.001411</td>\n",
       "      <td>0.015125</td>\n",
       "      <td>0.031744</td>\n",
       "      <td>0.013965</td>\n",
       "      <td>0.014547</td>\n",
       "      <td>0.006965</td>\n",
       "      <td>-0.007829</td>\n",
       "    </tr>\n",
       "    <tr>\n",
       "      <th>loudness</th>\n",
       "      <td>0.124915</td>\n",
       "      <td>0.059723</td>\n",
       "      <td>0.767869</td>\n",
       "      <td>0.002660</td>\n",
       "      <td>1.000000</td>\n",
       "      <td>-0.033650</td>\n",
       "      <td>0.096027</td>\n",
       "      <td>-0.612824</td>\n",
       "      <td>-0.343672</td>\n",
       "      <td>0.112022</td>\n",
       "      <td>0.181086</td>\n",
       "      <td>0.164272</td>\n",
       "      <td>0.172010</td>\n",
       "      <td>0.127775</td>\n",
       "      <td>0.177872</td>\n",
       "    </tr>\n",
       "    <tr>\n",
       "      <th>mode</th>\n",
       "      <td>0.016584</td>\n",
       "      <td>-0.067135</td>\n",
       "      <td>-0.035880</td>\n",
       "      <td>-0.112452</td>\n",
       "      <td>-0.033650</td>\n",
       "      <td>1.000000</td>\n",
       "      <td>-0.074609</td>\n",
       "      <td>0.024035</td>\n",
       "      <td>-0.026771</td>\n",
       "      <td>-0.001563</td>\n",
       "      <td>-0.002986</td>\n",
       "      <td>0.021211</td>\n",
       "      <td>-0.069307</td>\n",
       "      <td>-0.019989</td>\n",
       "      <td>-0.044740</td>\n",
       "    </tr>\n",
       "    <tr>\n",
       "      <th>speechiness</th>\n",
       "      <td>0.031664</td>\n",
       "      <td>0.199042</td>\n",
       "      <td>0.125427</td>\n",
       "      <td>0.001822</td>\n",
       "      <td>0.096027</td>\n",
       "      <td>-0.074609</td>\n",
       "      <td>1.000000</td>\n",
       "      <td>-0.086648</td>\n",
       "      <td>-0.067632</td>\n",
       "      <td>0.070406</td>\n",
       "      <td>0.053885</td>\n",
       "      <td>0.048948</td>\n",
       "      <td>0.005044</td>\n",
       "      <td>0.056237</td>\n",
       "      <td>-0.059349</td>\n",
       "    </tr>\n",
       "    <tr>\n",
       "      <th>acousticness</th>\n",
       "      <td>-0.125410</td>\n",
       "      <td>0.009055</td>\n",
       "      <td>-0.745963</td>\n",
       "      <td>-0.009112</td>\n",
       "      <td>-0.612824</td>\n",
       "      <td>0.024035</td>\n",
       "      <td>-0.086648</td>\n",
       "      <td>1.000000</td>\n",
       "      <td>0.174139</td>\n",
       "      <td>-0.111393</td>\n",
       "      <td>-0.122547</td>\n",
       "      <td>-0.168318</td>\n",
       "      <td>-0.322583</td>\n",
       "      <td>-0.133936</td>\n",
       "      <td>-0.237138</td>\n",
       "    </tr>\n",
       "    <tr>\n",
       "      <th>instrumentalness</th>\n",
       "      <td>-0.167661</td>\n",
       "      <td>-0.200752</td>\n",
       "      <td>-0.180276</td>\n",
       "      <td>0.001411</td>\n",
       "      <td>-0.343672</td>\n",
       "      <td>-0.026771</td>\n",
       "      <td>-0.067632</td>\n",
       "      <td>0.174139</td>\n",
       "      <td>1.000000</td>\n",
       "      <td>-0.047189</td>\n",
       "      <td>-0.228144</td>\n",
       "      <td>-0.038586</td>\n",
       "      <td>-0.004551</td>\n",
       "      <td>-0.061745</td>\n",
       "      <td>-0.025343</td>\n",
       "    </tr>\n",
       "    <tr>\n",
       "      <th>liveness</th>\n",
       "      <td>-0.072298</td>\n",
       "      <td>-0.109485</td>\n",
       "      <td>0.195634</td>\n",
       "      <td>0.015125</td>\n",
       "      <td>0.112022</td>\n",
       "      <td>-0.001563</td>\n",
       "      <td>0.070406</td>\n",
       "      <td>-0.111393</td>\n",
       "      <td>-0.047189</td>\n",
       "      <td>1.000000</td>\n",
       "      <td>0.021076</td>\n",
       "      <td>0.033515</td>\n",
       "      <td>0.053885</td>\n",
       "      <td>0.021546</td>\n",
       "      <td>0.045309</td>\n",
       "    </tr>\n",
       "    <tr>\n",
       "      <th>valence</th>\n",
       "      <td>0.054824</td>\n",
       "      <td>0.444548</td>\n",
       "      <td>0.222998</td>\n",
       "      <td>0.031744</td>\n",
       "      <td>0.181086</td>\n",
       "      <td>-0.002986</td>\n",
       "      <td>0.053885</td>\n",
       "      <td>-0.122547</td>\n",
       "      <td>-0.228144</td>\n",
       "      <td>0.021076</td>\n",
       "      <td>1.000000</td>\n",
       "      <td>0.051128</td>\n",
       "      <td>-0.097126</td>\n",
       "      <td>0.112479</td>\n",
       "      <td>-0.075116</td>\n",
       "    </tr>\n",
       "    <tr>\n",
       "      <th>tempo</th>\n",
       "      <td>-0.006050</td>\n",
       "      <td>-0.183527</td>\n",
       "      <td>0.210224</td>\n",
       "      <td>0.013965</td>\n",
       "      <td>0.164272</td>\n",
       "      <td>0.021211</td>\n",
       "      <td>0.048948</td>\n",
       "      <td>-0.168318</td>\n",
       "      <td>-0.038586</td>\n",
       "      <td>0.033515</td>\n",
       "      <td>0.051128</td>\n",
       "      <td>1.000000</td>\n",
       "      <td>0.045133</td>\n",
       "      <td>-0.034642</td>\n",
       "      <td>0.031737</td>\n",
       "    </tr>\n",
       "    <tr>\n",
       "      <th>duration_in min/ms</th>\n",
       "      <td>-0.031118</td>\n",
       "      <td>-0.121624</td>\n",
       "      <td>0.245768</td>\n",
       "      <td>0.014547</td>\n",
       "      <td>0.172010</td>\n",
       "      <td>-0.069307</td>\n",
       "      <td>0.005044</td>\n",
       "      <td>-0.322583</td>\n",
       "      <td>-0.004551</td>\n",
       "      <td>0.053885</td>\n",
       "      <td>-0.097126</td>\n",
       "      <td>0.045133</td>\n",
       "      <td>1.000000</td>\n",
       "      <td>0.007411</td>\n",
       "      <td>0.203678</td>\n",
       "    </tr>\n",
       "    <tr>\n",
       "      <th>time_signature</th>\n",
       "      <td>0.067062</td>\n",
       "      <td>0.137455</td>\n",
       "      <td>0.145281</td>\n",
       "      <td>0.006965</td>\n",
       "      <td>0.127775</td>\n",
       "      <td>-0.019989</td>\n",
       "      <td>0.056237</td>\n",
       "      <td>-0.133936</td>\n",
       "      <td>-0.061745</td>\n",
       "      <td>0.021546</td>\n",
       "      <td>0.112479</td>\n",
       "      <td>-0.034642</td>\n",
       "      <td>0.007411</td>\n",
       "      <td>1.000000</td>\n",
       "      <td>0.047989</td>\n",
       "    </tr>\n",
       "    <tr>\n",
       "      <th>Class</th>\n",
       "      <td>0.161072</td>\n",
       "      <td>-0.097681</td>\n",
       "      <td>0.217328</td>\n",
       "      <td>-0.007829</td>\n",
       "      <td>0.177872</td>\n",
       "      <td>-0.044740</td>\n",
       "      <td>-0.059349</td>\n",
       "      <td>-0.237138</td>\n",
       "      <td>-0.025343</td>\n",
       "      <td>0.045309</td>\n",
       "      <td>-0.075116</td>\n",
       "      <td>0.031737</td>\n",
       "      <td>0.203678</td>\n",
       "      <td>0.047989</td>\n",
       "      <td>1.000000</td>\n",
       "    </tr>\n",
       "  </tbody>\n",
       "</table>\n",
       "</div>"
      ],
      "text/plain": [
       "                    Popularity  danceability    energy       key  loudness  \\\n",
       "Popularity            1.000000      0.167213  0.051538  0.005901  0.124915   \n",
       "danceability          0.167213      1.000000 -0.093838  0.006702  0.059723   \n",
       "energy                0.051538     -0.093838  1.000000  0.015934  0.767869   \n",
       "key                   0.005901      0.006702  0.015934  1.000000  0.002660   \n",
       "loudness              0.124915      0.059723  0.767869  0.002660  1.000000   \n",
       "mode                  0.016584     -0.067135 -0.035880 -0.112452 -0.033650   \n",
       "speechiness           0.031664      0.199042  0.125427  0.001822  0.096027   \n",
       "acousticness         -0.125410      0.009055 -0.745963 -0.009112 -0.612824   \n",
       "instrumentalness     -0.167661     -0.200752 -0.180276  0.001411 -0.343672   \n",
       "liveness             -0.072298     -0.109485  0.195634  0.015125  0.112022   \n",
       "valence               0.054824      0.444548  0.222998  0.031744  0.181086   \n",
       "tempo                -0.006050     -0.183527  0.210224  0.013965  0.164272   \n",
       "duration_in min/ms   -0.031118     -0.121624  0.245768  0.014547  0.172010   \n",
       "time_signature        0.067062      0.137455  0.145281  0.006965  0.127775   \n",
       "Class                 0.161072     -0.097681  0.217328 -0.007829  0.177872   \n",
       "\n",
       "                        mode  speechiness  acousticness  instrumentalness  \\\n",
       "Popularity          0.016584     0.031664     -0.125410         -0.167661   \n",
       "danceability       -0.067135     0.199042      0.009055         -0.200752   \n",
       "energy             -0.035880     0.125427     -0.745963         -0.180276   \n",
       "key                -0.112452     0.001822     -0.009112          0.001411   \n",
       "loudness           -0.033650     0.096027     -0.612824         -0.343672   \n",
       "mode                1.000000    -0.074609      0.024035         -0.026771   \n",
       "speechiness        -0.074609     1.000000     -0.086648         -0.067632   \n",
       "acousticness        0.024035    -0.086648      1.000000          0.174139   \n",
       "instrumentalness   -0.026771    -0.067632      0.174139          1.000000   \n",
       "liveness           -0.001563     0.070406     -0.111393         -0.047189   \n",
       "valence            -0.002986     0.053885     -0.122547         -0.228144   \n",
       "tempo               0.021211     0.048948     -0.168318         -0.038586   \n",
       "duration_in min/ms -0.069307     0.005044     -0.322583         -0.004551   \n",
       "time_signature     -0.019989     0.056237     -0.133936         -0.061745   \n",
       "Class              -0.044740    -0.059349     -0.237138         -0.025343   \n",
       "\n",
       "                    liveness   valence     tempo  duration_in min/ms  \\\n",
       "Popularity         -0.072298  0.054824 -0.006050           -0.031118   \n",
       "danceability       -0.109485  0.444548 -0.183527           -0.121624   \n",
       "energy              0.195634  0.222998  0.210224            0.245768   \n",
       "key                 0.015125  0.031744  0.013965            0.014547   \n",
       "loudness            0.112022  0.181086  0.164272            0.172010   \n",
       "mode               -0.001563 -0.002986  0.021211           -0.069307   \n",
       "speechiness         0.070406  0.053885  0.048948            0.005044   \n",
       "acousticness       -0.111393 -0.122547 -0.168318           -0.322583   \n",
       "instrumentalness   -0.047189 -0.228144 -0.038586           -0.004551   \n",
       "liveness            1.000000  0.021076  0.033515            0.053885   \n",
       "valence             0.021076  1.000000  0.051128           -0.097126   \n",
       "tempo               0.033515  0.051128  1.000000            0.045133   \n",
       "duration_in min/ms  0.053885 -0.097126  0.045133            1.000000   \n",
       "time_signature      0.021546  0.112479 -0.034642            0.007411   \n",
       "Class               0.045309 -0.075116  0.031737            0.203678   \n",
       "\n",
       "                    time_signature     Class  \n",
       "Popularity                0.067062  0.161072  \n",
       "danceability              0.137455 -0.097681  \n",
       "energy                    0.145281  0.217328  \n",
       "key                       0.006965 -0.007829  \n",
       "loudness                  0.127775  0.177872  \n",
       "mode                     -0.019989 -0.044740  \n",
       "speechiness               0.056237 -0.059349  \n",
       "acousticness             -0.133936 -0.237138  \n",
       "instrumentalness         -0.061745 -0.025343  \n",
       "liveness                  0.021546  0.045309  \n",
       "valence                   0.112479 -0.075116  \n",
       "tempo                    -0.034642  0.031737  \n",
       "duration_in min/ms        0.007411  0.203678  \n",
       "time_signature            1.000000  0.047989  \n",
       "Class                     0.047989  1.000000  "
      ]
     },
     "execution_count": 214,
     "metadata": {},
     "output_type": "execute_result"
    }
   ],
   "source": [
    "data.corr() # Посмотрим, есть ли коррелирующие переменные"
   ]
  },
  {
   "cell_type": "code",
   "execution_count": 36,
   "id": "8c6eb72a-fddb-4e6b-ab90-cbab27f8ffd0",
   "metadata": {},
   "outputs": [
    {
     "data": {
      "image/png": "[encoded data removed]",
      "text/plain": [
       "<Figure size 432x288 with 2 Axes>"
      ]
     },
     "metadata": {
      "needs_background": "light"
     },
     "output_type": "display_data"
    }
   ],
   "source": [
    "hm = sns.heatmap(data.corr(),\n",
    "                 cbar=True,\n",
    "                 annot=False)"
   ]
  },
  {
   "cell_type": "code",
   "execution_count": 38,
   "id": "fe49c30c-0b78-4140-a362-d34d71122dab",
   "metadata": {},
   "outputs": [],
   "source": [
    "# Параметры acousticness и loudness хорошо коррелируют с параметром energy, \n",
    "# возможно при создании модели имеет смысл использовать energy вместо них обоих. "
   ]
  },
  {
   "cell_type": "code",
   "execution_count": 211,
   "id": "280980ed-cdb6-410e-b121-48a787a0f412",
   "metadata": {},
   "outputs": [],
   "source": [
    "# Посмотрим на распределения"
   ]
  },
  {
   "cell_type": "code",
   "execution_count": 210,
   "id": "a8bc5f8c-87f5-4515-b5a0-ec3aa1a9dbf1",
   "metadata": {},
   "outputs": [
    {
     "data": {
      "image/png": "[encoded data removed]",
      "text/plain": [
       "<Figure size 720x432 with 15 Axes>"
      ]
     },
     "metadata": {
      "needs_background": "light"
     },
     "output_type": "display_data"
    }
   ],
   "source": [
    "plot_data = data.drop(data.columns[[0,1]], axis=1)\n",
    "plt.figure(figsize=(10, 6))\n",
    "for i in range(plot_data.shape[1]):\n",
    "    plt.subplot(3, 5, i+1)\n",
    "    plt.tight_layout()\n",
    "    plt.hist(x=plot_data.iloc[:,[i]])\n",
    "    plt.title(plot_data.columns[i])\n",
    "plt.show()"
   ]
  },
  {
   "cell_type": "markdown",
   "id": "d7dfab66-247d-423e-a4f9-5891ce11627b",
   "metadata": {},
   "source": [
    "### Задание 2. Обучение дерева решений (10 баллов)\n",
    "\n",
    "Предобработайте признаки так, чтобы их можно было подать в модель дерева решений и обучите ее, постарайтесь подобрать оптимальные гиперпараметры, которые вам известны. Постарайтесь также обосновать выбор метрики в данном случае. При подборе гиперпараметров может помочь `GridSearchCV` [ссылка](https://scikit-learn.org/stable/modules/generated/sklearn.model_selection.GridSearchCV.html)."
   ]
  },
  {
   "cell_type": "code",
   "execution_count": 147,
   "id": "6af8bb24-fa4b-4cb3-a10e-24ad5cbe712d",
   "metadata": {},
   "outputs": [],
   "source": [
    "# Выбросим переменные содержащие имя артиста, название трека и переменные имеющие пропущенные значения."
   ]
  },
  {
   "cell_type": "code",
   "execution_count": 142,
   "id": "f69d6a02-fac9-48ec-9ae8-1613f27283d5",
   "metadata": {},
   "outputs": [],
   "source": [
    "data_prepro = data.drop(['Artist Name', 'Track Name','instrumentalness', 'key'], axis=1)"
   ]
  },
  {
   "cell_type": "code",
   "execution_count": 146,
   "id": "39d232e9-9702-4886-a044-42b8b23af20e",
   "metadata": {},
   "outputs": [],
   "source": [
    "data_prepro = data_prepro.fillna({'Popularity': data_prepro['Popularity'].mean()}) \n",
    "# поскольку в колонке Popularity не так много пропущенных значений, возможно имеет смысл ее оставить,\n",
    "# заменив пропущенные значения на среднее по признаку."
   ]
  },
  {
   "cell_type": "code",
   "execution_count": 151,
   "id": "a5d729ef-2a2e-468e-8237-36aadfc3e48f",
   "metadata": {},
   "outputs": [],
   "source": [
    "X = data_prepro.drop('Class', axis=1)\n",
    "y = data_prepro['Class']"
   ]
  },
  {
   "cell_type": "code",
   "execution_count": 153,
   "id": "9766910f-e0e8-40d6-ba3f-0951dfe74187",
   "metadata": {},
   "outputs": [],
   "source": [
    "# выполним стандартизацию, поскольку значения признаков существенно отличаются между собой\n",
    "\n",
    "X = StandardScaler().fit_transform(X)\n",
    "X_train,X_test,y_train,y_test = train_test_split(X,y, test_size=0.2,random_state=SEED)"
   ]
  },
  {
   "cell_type": "code",
   "execution_count": 35,
   "id": "9eb25028-2e55-480d-ace7-55131e70be4a",
   "metadata": {},
   "outputs": [],
   "source": [
    "tree = DecisionTreeClassifier()"
   ]
  },
  {
   "cell_type": "code",
   "execution_count": 212,
   "id": "2899e403-4227-4cb6-a6af-86b9ad72b87a",
   "metadata": {},
   "outputs": [],
   "source": [
    "#подберем лучшие значения."
   ]
  },
  {
   "cell_type": "code",
   "execution_count": 157,
   "id": "fae15180-33e3-4349-ba62-59e5561bf02f",
   "metadata": {},
   "outputs": [],
   "source": [
    "parameters = {'criterion': ['gini', 'entropy'],\n",
    "              'max_leaf_nodes' : range(50,350,50),\n",
    "              'min_samples_split': range(2,10,2),\n",
    "             'min_samples_leaf' : range(2,10,2),\n",
    "             }"
   ]
  },
  {
   "cell_type": "code",
   "execution_count": 158,
   "id": "8311edd8-86b5-42e4-9871-e525e24936fc",
   "metadata": {},
   "outputs": [],
   "source": [
    "search = GridSearchCV(tree, parameters)"
   ]
  },
  {
   "cell_type": "code",
   "execution_count": 159,
   "id": "bc882cd2-bab9-4f25-b29c-af418af413eb",
   "metadata": {},
   "outputs": [
    {
     "data": {
      "text/plain": [
       "GridSearchCV(estimator=DecisionTreeClassifier(),\n",
       "             param_grid={'criterion': ['gini', 'entropy'],\n",
       "                         'max_leaf_nodes': range(50, 350, 50),\n",
       "                         'min_samples_leaf': range(2, 10, 2),\n",
       "                         'min_samples_split': range(2, 10, 2)})"
      ]
     },
     "execution_count": 159,
     "metadata": {},
     "output_type": "execute_result"
    }
   ],
   "source": [
    "search.fit(X_train,y_train)"
   ]
  },
  {
   "cell_type": "code",
   "execution_count": 160,
   "id": "d666904d-4a59-4828-b6ff-ebdc0a9bbe72",
   "metadata": {},
   "outputs": [
    {
     "data": {
      "text/plain": [
       "DecisionTreeClassifier(max_leaf_nodes=150, min_samples_leaf=4)"
      ]
     },
     "execution_count": 160,
     "metadata": {},
     "output_type": "execute_result"
    }
   ],
   "source": [
    "search.best_estimator_"
   ]
  },
  {
   "cell_type": "code",
   "execution_count": 161,
   "id": "f31230d8-995d-4220-b6a3-a16817852dcd",
   "metadata": {},
   "outputs": [
    {
     "data": {
      "text/plain": [
       "0.47061687121299833"
      ]
     },
     "execution_count": 161,
     "metadata": {},
     "output_type": "execute_result"
    }
   ],
   "source": [
    "search.best_score_"
   ]
  },
  {
   "cell_type": "code",
   "execution_count": 215,
   "id": "9fe98a34-e8c3-4076-942e-574feabcd179",
   "metadata": {},
   "outputs": [],
   "source": [
    "#попробуем с максимальной глубиной."
   ]
  },
  {
   "cell_type": "code",
   "execution_count": 164,
   "id": "914cc2c4-fa21-487e-a5c2-6e1cf6b683f4",
   "metadata": {},
   "outputs": [],
   "source": [
    "parameters2 = {'criterion': ['gini', 'entropy'],\n",
    "              'max_depth': range(1,21,5),\n",
    "              'min_samples_split': range(2,10,2),\n",
    "             'min_samples_leaf' : range(2,10,2),\n",
    "             }"
   ]
  },
  {
   "cell_type": "code",
   "execution_count": 165,
   "id": "5401e649-abd8-4f4b-8f8f-f2ad2dc2e3f8",
   "metadata": {},
   "outputs": [
    {
     "data": {
      "text/plain": [
       "GridSearchCV(estimator=DecisionTreeClassifier(),\n",
       "             param_grid={'criterion': ['gini', 'entropy'],\n",
       "                         'max_depth': range(1, 21, 5),\n",
       "                         'min_samples_leaf': range(2, 10, 2),\n",
       "                         'min_samples_split': range(2, 10, 2)})"
      ]
     },
     "execution_count": 165,
     "metadata": {},
     "output_type": "execute_result"
    }
   ],
   "source": [
    "search2 = GridSearchCV(tree, parameters2)\n",
    "search2.fit(X_train,y_train)"
   ]
  },
  {
   "cell_type": "code",
   "execution_count": 166,
   "id": "f75b5d5f-fd43-40cb-9cc1-0091252b8fef",
   "metadata": {},
   "outputs": [
    {
     "data": {
      "text/plain": [
       "DecisionTreeClassifier(max_depth=11, min_samples_leaf=8)"
      ]
     },
     "execution_count": 166,
     "metadata": {},
     "output_type": "execute_result"
    }
   ],
   "source": [
    "search2.best_estimator_"
   ]
  },
  {
   "cell_type": "code",
   "execution_count": 167,
   "id": "8c426ab7-91ee-4c4d-b89c-5010d3f0a1fe",
   "metadata": {},
   "outputs": [
    {
     "data": {
      "text/plain": [
       "0.4477630880707036"
      ]
     },
     "execution_count": 167,
     "metadata": {},
     "output_type": "execute_result"
    }
   ],
   "source": [
    "search2.best_score_"
   ]
  },
  {
   "cell_type": "code",
   "execution_count": 208,
   "id": "458e1c3e-c2e0-4e30-9bf2-ba26c6807ed5",
   "metadata": {},
   "outputs": [],
   "source": [
    "# Возьмем наилучшее дерево из двух"
   ]
  },
  {
   "cell_type": "code",
   "execution_count": 170,
   "id": "d07f5c68-f168-429b-90a0-1e736989ee91",
   "metadata": {},
   "outputs": [],
   "source": [
    "best_tree = DecisionTreeClassifier(max_leaf_nodes=150, min_samples_leaf=4)"
   ]
  },
  {
   "cell_type": "code",
   "execution_count": 171,
   "id": "e65dc7fd-9176-4fa2-91e1-20b5d4ad284d",
   "metadata": {},
   "outputs": [
    {
     "data": {
      "text/plain": [
       "DecisionTreeClassifier(max_leaf_nodes=150, min_samples_leaf=4)"
      ]
     },
     "execution_count": 171,
     "metadata": {},
     "output_type": "execute_result"
    }
   ],
   "source": [
    "best_tree.fit(X_train,y_train)"
   ]
  },
  {
   "cell_type": "code",
   "execution_count": 172,
   "id": "6238802e-2eca-4372-8d70-21f821b1285e",
   "metadata": {},
   "outputs": [],
   "source": [
    "y_pred = best_tree.predict(X_test)"
   ]
  },
  {
   "cell_type": "code",
   "execution_count": 174,
   "id": "243cafa5-5c77-48fe-ba77-e3b720d40877",
   "metadata": {},
   "outputs": [],
   "source": [
    "#Оценим качество классификации."
   ]
  },
  {
   "cell_type": "code",
   "execution_count": 209,
   "id": "ecfdbadb-3b4a-4d74-8af7-459ac5b9b73f",
   "metadata": {},
   "outputs": [],
   "source": [
    "# Поскольку в данных наблюдается дисбаланс классов, метрику accuracy использовать нельзя. Будем использовать f1."
   ]
  },
  {
   "cell_type": "code",
   "execution_count": 173,
   "id": "2346d6ae-9ccd-4370-b1c1-5b3413e375e0",
   "metadata": {},
   "outputs": [
    {
     "name": "stdout",
     "output_type": "stream",
     "text": [
      "0.4915797412604809\n"
     ]
    }
   ],
   "source": [
    "print(f1_score(y_test,y_pred, average='macro'))"
   ]
  },
  {
   "cell_type": "markdown",
   "id": "11c54184-da20-4f53-9d5f-575e2cad3a4d",
   "metadata": {},
   "source": [
    "### Задание 3. Другие модели (5 баллов за модель)\n",
    "\n",
    "Проделайте операции из **Задания 2** с другими известными вам классификаторами. Стало ли лучше?"
   ]
  },
  {
   "cell_type": "markdown",
   "id": "3c021b91-3db7-4e8c-b7f5-a06a79c642d5",
   "metadata": {
    "tags": []
   },
   "source": [
    "# Knn"
   ]
  },
  {
   "cell_type": "code",
   "execution_count": 206,
   "id": "d12a53dc-a7ff-4207-be3b-fe0196ec3896",
   "metadata": {},
   "outputs": [],
   "source": [
    "# Подберем лучшие параметры"
   ]
  },
  {
   "cell_type": "code",
   "execution_count": 181,
   "id": "10b508ea-da28-432d-9423-a3db1e4f4469",
   "metadata": {},
   "outputs": [],
   "source": [
    "knn = KNeighborsClassifier()\n",
    "parameters_knn = {'n_neighbors' : range(5, 100, 5),\n",
    "                 'metric' : ['minkowski','euclidean', 'canberra' ]}\n",
    "best_knn = GridSearchCV(knn, parameters_knn)"
   ]
  },
  {
   "cell_type": "code",
   "execution_count": 182,
   "id": "3a26743c-44db-4328-af82-0de4b6c0a86e",
   "metadata": {},
   "outputs": [
    {
     "data": {
      "text/plain": [
       "GridSearchCV(estimator=KNeighborsClassifier(),\n",
       "             param_grid={'metric': ['minkowski', 'euclidean', 'canberra'],\n",
       "                         'n_neighbors': range(5, 100, 5)})"
      ]
     },
     "execution_count": 182,
     "metadata": {},
     "output_type": "execute_result"
    }
   ],
   "source": [
    "best_knn.fit(X_train,y_train)"
   ]
  },
  {
   "cell_type": "code",
   "execution_count": 184,
   "id": "029d37bf-5711-4e03-9fd5-9f9ffdb5ffb5",
   "metadata": {},
   "outputs": [
    {
     "data": {
      "text/plain": [
       "KNeighborsClassifier(n_neighbors=55)"
      ]
     },
     "execution_count": 184,
     "metadata": {},
     "output_type": "execute_result"
    }
   ],
   "source": [
    "best_knn.best_estimator_"
   ]
  },
  {
   "cell_type": "code",
   "execution_count": 185,
   "id": "921dfe45-63b6-4d51-a32c-12fce4e96b5f",
   "metadata": {},
   "outputs": [
    {
     "data": {
      "text/plain": [
       "0.4846489907761183"
      ]
     },
     "execution_count": 185,
     "metadata": {},
     "output_type": "execute_result"
    }
   ],
   "source": [
    "best_knn.best_score_"
   ]
  },
  {
   "cell_type": "code",
   "execution_count": 196,
   "id": "b605c5d1-930a-43cb-843c-696f6dd43933",
   "metadata": {},
   "outputs": [],
   "source": [
    "# сузим поиск"
   ]
  },
  {
   "cell_type": "code",
   "execution_count": 188,
   "id": "42afdcf0-8425-4bbf-a0c1-cf7151aa96af",
   "metadata": {},
   "outputs": [],
   "source": [
    "parameters_knn2 = {'n_neighbors' : range(45, 65, 1)}\n",
    "best_knn2 = GridSearchCV(knn, parameters_knn2)"
   ]
  },
  {
   "cell_type": "code",
   "execution_count": 189,
   "id": "b5c0584d-f17b-4f41-8461-b512a3ff50e0",
   "metadata": {},
   "outputs": [
    {
     "data": {
      "text/plain": [
       "GridSearchCV(estimator=KNeighborsClassifier(),\n",
       "             param_grid={'n_neighbors': range(45, 65)})"
      ]
     },
     "execution_count": 189,
     "metadata": {},
     "output_type": "execute_result"
    }
   ],
   "source": [
    "best_knn2.fit(X_train,y_train)"
   ]
  },
  {
   "cell_type": "code",
   "execution_count": 190,
   "id": "10991ce6-97a7-4eeb-a9c3-2373cda8567a",
   "metadata": {},
   "outputs": [
    {
     "data": {
      "text/plain": [
       "KNeighborsClassifier(n_neighbors=55)"
      ]
     },
     "execution_count": 190,
     "metadata": {},
     "output_type": "execute_result"
    }
   ],
   "source": [
    "best_knn2.best_estimator_"
   ]
  },
  {
   "cell_type": "code",
   "execution_count": 216,
   "id": "0d5e14be-5f4b-4ea4-befd-a71a86e10664",
   "metadata": {},
   "outputs": [],
   "source": [
    "# Возьмем лучшие параметры"
   ]
  },
  {
   "cell_type": "code",
   "execution_count": 193,
   "id": "57845bbc-a49d-4bf8-a024-f48b7cec6602",
   "metadata": {},
   "outputs": [
    {
     "data": {
      "text/plain": [
       "KNeighborsClassifier(n_neighbors=55)"
      ]
     },
     "execution_count": 193,
     "metadata": {},
     "output_type": "execute_result"
    }
   ],
   "source": [
    "knn_best = KNeighborsClassifier(n_neighbors=55)\n",
    "knn_best.fit(X_train,y_train)"
   ]
  },
  {
   "cell_type": "code",
   "execution_count": 194,
   "id": "33b3e9db-ec8b-4d35-b8b5-368c94894f16",
   "metadata": {},
   "outputs": [],
   "source": [
    "pred_knn = knn_best.predict(X_test)"
   ]
  },
  {
   "cell_type": "code",
   "execution_count": 195,
   "id": "f76f14dd-0886-460a-a434-efcd96fe3537",
   "metadata": {},
   "outputs": [
    {
     "name": "stdout",
     "output_type": "stream",
     "text": [
      "0.5041721455244501\n"
     ]
    }
   ],
   "source": [
    "print(f1_score(y_test,pred_knn, average='macro'))"
   ]
  },
  {
   "cell_type": "markdown",
   "id": "1e6e7355-968e-45d3-b3c1-7d8fadfd006d",
   "metadata": {
    "tags": []
   },
   "source": [
    "# SVC"
   ]
  },
  {
   "cell_type": "code",
   "execution_count": 207,
   "id": "bedfa039-d09e-458f-ab1e-a9af12f41096",
   "metadata": {},
   "outputs": [],
   "source": [
    "# Подберем лучшие параметры"
   ]
  },
  {
   "cell_type": "code",
   "execution_count": 199,
   "id": "e895d56d-d050-4479-9c4c-daa797ad6ea9",
   "metadata": {},
   "outputs": [],
   "source": [
    "parameters_svc = {'kernel':('linear', 'rbf'), \n",
    "              'C':range(1,10)}\n",
    "svc = svm.SVC(class_weight='balanced')\n",
    "best_SVC = GridSearchCV(svc, parameters_svc) "
   ]
  },
  {
   "cell_type": "code",
   "execution_count": 200,
   "id": "1ffbab15-8a57-4d19-a009-3ded03c63566",
   "metadata": {},
   "outputs": [
    {
     "data": {
      "text/plain": [
       "GridSearchCV(estimator=SVC(class_weight='balanced'),\n",
       "             param_grid={'C': range(1, 10), 'kernel': ('linear', 'rbf')})"
      ]
     },
     "execution_count": 200,
     "metadata": {},
     "output_type": "execute_result"
    }
   ],
   "source": [
    "best_SVC.fit(X_train,y_train)"
   ]
  },
  {
   "cell_type": "code",
   "execution_count": 201,
   "id": "87b486ff-9712-44f5-bfc7-770b2e1d5ae4",
   "metadata": {},
   "outputs": [
    {
     "data": {
      "text/plain": [
       "SVC(C=2, class_weight='balanced')"
      ]
     },
     "execution_count": 201,
     "metadata": {},
     "output_type": "execute_result"
    }
   ],
   "source": [
    "best_SVC.best_estimator_"
   ]
  },
  {
   "cell_type": "code",
   "execution_count": 203,
   "id": "953852f7-5513-48f2-bdd5-865f4dd718f7",
   "metadata": {},
   "outputs": [
    {
     "data": {
      "text/plain": [
       "SVC(C=2, class_weight='balanced')"
      ]
     },
     "execution_count": 203,
     "metadata": {},
     "output_type": "execute_result"
    }
   ],
   "source": [
    "SVC_best = svm.SVC(C=2, class_weight='balanced')\n",
    "SVC_best.fit(X_train,y_train)"
   ]
  },
  {
   "cell_type": "code",
   "execution_count": 204,
   "id": "a9d0d59f-987b-4ad9-85e6-d098347dc6ec",
   "metadata": {},
   "outputs": [],
   "source": [
    "pred_SVC = SVC_best.predict(X_test)"
   ]
  },
  {
   "cell_type": "code",
   "execution_count": 205,
   "id": "dec5b790-8858-4728-81d3-ee1d81342ee4",
   "metadata": {},
   "outputs": [
    {
     "name": "stdout",
     "output_type": "stream",
     "text": [
      "0.5276772395171743\n"
     ]
    }
   ],
   "source": [
    "print(f1_score(y_test,pred_SVC, average='macro'))"
   ]
  },
  {
   "cell_type": "markdown",
   "id": "06a81169-8105-4b33-a56a-064b48340db2",
   "metadata": {},
   "source": [
    " "
   ]
  },
  {
   "cell_type": "markdown",
   "id": "7a8f7d10-1610-469d-ac9e-74bb19448df9",
   "metadata": {},
   "source": [
    "\n",
    "\n",
    "\n",
    "\n",
    "Стало лучше, но не сильно)"
   ]
  },
  {
   "cell_type": "markdown",
   "id": "a4d857d4-15fc-456d-adb3-d0ebd1690cfa",
   "metadata": {},
   "source": [
    "### Задание 4. (3 балла)\n",
    "\n",
    "Раз уж вы работаете в командах, то у вас есть шанс обсудить любимые фильмы. Напишите сюда 3 фильма, которые хотели бы посмотреть вместе:\n",
    "\n",
    "1.\n",
    "\n",
    "2.\n",
    "\n",
    "3."
   ]
  },
  {
   "cell_type": "markdown",
   "id": "9000d228-70c1-4bee-a608-7ebe7330d1bf",
   "metadata": {},
   "source": [
    "Я делал задние один, так что вот просто 3 фильма)(\n",
    "\n",
    "О настоящем: \n",
    "\n",
    "1. \"Война\" Алексея Балабанова\n",
    "\n",
    "О ближайшем будущем(:\n",
    "\n",
    "2. \"Груз 200\" Алексея Балабанова\n",
    "\n",
    "Об одаленном будущем):\n",
    "\n",
    "3. \"Generation П\" \n"
   ]
  }
 ],
 "metadata": {
  "kernelspec": {
   "display_name": "Python 3 (ipykernel)",
   "language": "python",
   "name": "python3"
  },
  "language_info": {
   "codemirror_mode": {
    "name": "ipython",
    "version": 3
   },
   "file_extension": ".py",
   "mimetype": "text/x-python",
   "name": "python",
   "nbconvert_exporter": "python",
   "pygments_lexer": "ipython3",
   "version": "3.10.1"
  }
 },
 "nbformat": 4,
 "nbformat_minor": 5
}
